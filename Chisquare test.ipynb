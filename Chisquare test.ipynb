{
 "cells": [
  {
   "cell_type": "code",
   "execution_count": 1,
   "id": "340ae253-2e73-49b7-989a-640cdc743d0b",
   "metadata": {
    "tags": []
   },
   "outputs": [],
   "source": [
    "import numpy as np\n",
    "from scipy.stats import chi2_contingency"
   ]
  },
  {
   "cell_type": "code",
   "execution_count": 2,
   "id": "77a095a4-6d14-410a-8f5e-8688a7660427",
   "metadata": {
    "tags": []
   },
   "outputs": [],
   "source": [
    "data = np.array([\n",
    "    [50, 70],\n",
    "    [80, 100],\n",
    "    [60, 90],\n",
    "    [30, 50],\n",
    "    [20, 50]\n",
    "])"
   ]
  },
  {
   "cell_type": "code",
   "execution_count": 3,
   "id": "f852ead2-0c28-4170-a840-7d34a845b866",
   "metadata": {
    "tags": []
   },
   "outputs": [
    {
     "data": {
      "text/plain": [
       "array([[ 50,  70],\n",
       "       [ 80, 100],\n",
       "       [ 60,  90],\n",
       "       [ 30,  50],\n",
       "       [ 20,  50]])"
      ]
     },
     "execution_count": 3,
     "metadata": {},
     "output_type": "execute_result"
    }
   ],
   "source": [
    "data"
   ]
  },
  {
   "cell_type": "code",
   "execution_count": 4,
   "id": "dc147621-868c-4aca-912a-84d88844a48e",
   "metadata": {
    "tags": []
   },
   "outputs": [],
   "source": [
    "chi2, p, dof, expected = chi2_contingency(data)"
   ]
  },
  {
   "cell_type": "code",
   "execution_count": 5,
   "id": "33303ec6-a419-4030-97fc-cf9e8b48805b",
   "metadata": {
    "tags": []
   },
   "outputs": [
    {
     "name": "stdout",
     "output_type": "stream",
     "text": [
      "Chi-Square Statistic: 5.638227513227513\n",
      "p-value: 0.22784371130697179\n",
      "Degrees of Freedom: 4\n",
      "Expected Frequencies:\n",
      "[[ 48.  72.]\n",
      " [ 72. 108.]\n",
      " [ 60.  90.]\n",
      " [ 32.  48.]\n",
      " [ 28.  42.]]\n"
     ]
    }
   ],
   "source": [
    "print(\"Chi-Square Statistic:\", chi2)\n",
    "print(\"p-value:\", p)\n",
    "print(\"Degrees of Freedom:\", dof)\n",
    "print(\"Expected Frequencies:\")\n",
    "print(expected)"
   ]
  },
  {
   "cell_type": "code",
   "execution_count": 6,
   "id": "9a6b25d1-7f68-447e-9096-dc06d4ddaf36",
   "metadata": {
    "tags": []
   },
   "outputs": [],
   "source": [
    "alpha = 0.05 "
   ]
  },
  {
   "cell_type": "code",
   "execution_count": 7,
   "id": "f7782fa7-f356-4c41-b4b0-358c9f89e880",
   "metadata": {
    "tags": []
   },
   "outputs": [
    {
     "name": "stdout",
     "output_type": "stream",
     "text": [
      "There is no significant association between the type of smart home device and customer satisfaction (fail to reject null hypothesis).\n"
     ]
    }
   ],
   "source": [
    "if p < alpha:\n",
    "    print(\"There is a significant association between the type of smart home device and customer satisfaction (reject null hypothesis).\")\n",
    "else:\n",
    "    print(\"There is no significant association between the type of smart home device and customer satisfaction (fail to reject null hypothesis).\")"
   ]
  },
  {
   "cell_type": "code",
   "execution_count": 13,
   "id": "6caca862-060a-4393-a2c0-4f23853a299a",
   "metadata": {
    "tags": []
   },
   "outputs": [],
   "source": [
    "import numpy as np\n",
    "from scipy.stats import chi2"
   ]
  },
  {
   "cell_type": "code",
   "execution_count": 14,
   "id": "0d825b7e-5785-49a8-a139-5e846478f93a",
   "metadata": {
    "tags": []
   },
   "outputs": [],
   "source": [
    "data = np.array([\n",
    "    [50, 70], \n",
    "    [80, 100],  \n",
    "    [60, 90],  \n",
    "    [30, 50],  \n",
    "    [20, 50]   \n",
    "])"
   ]
  },
  {
   "cell_type": "code",
   "execution_count": 15,
   "id": "bd903559-f7a8-4e10-b4c1-6f9738020aeb",
   "metadata": {
    "tags": []
   },
   "outputs": [],
   "source": [
    "chi2_stat, p, dof, expected = chi2_contingency(data)"
   ]
  },
  {
   "cell_type": "code",
   "execution_count": 16,
   "id": "98d3c16b-59b0-4d64-a659-9115f19c5a83",
   "metadata": {
    "tags": []
   },
   "outputs": [],
   "source": [
    "alpha = 0.05"
   ]
  },
  {
   "cell_type": "code",
   "execution_count": 17,
   "id": "9cf5d17f-4ffa-406f-8d8e-e381fa7ac3ee",
   "metadata": {
    "tags": []
   },
   "outputs": [],
   "source": [
    "critical_value = chi2.ppf(1 - alpha, dof)"
   ]
  },
  {
   "cell_type": "code",
   "execution_count": 18,
   "id": "250a4285-69ea-4a8f-93b4-30219fb68f71",
   "metadata": {
    "tags": []
   },
   "outputs": [
    {
     "data": {
      "text/plain": [
       "9.487729036781154"
      ]
     },
     "execution_count": 18,
     "metadata": {},
     "output_type": "execute_result"
    }
   ],
   "source": [
    "critical_value"
   ]
  },
  {
   "cell_type": "code",
   "execution_count": 19,
   "id": "b87faedf-85e6-40fd-a172-df962abcddca",
   "metadata": {
    "tags": []
   },
   "outputs": [
    {
     "name": "stdout",
     "output_type": "stream",
     "text": [
      "Degrees of Freedom: 4\n",
      "Significance Level (alpha): 0.05\n",
      "Critical Value: 9.487729036781154\n"
     ]
    }
   ],
   "source": [
    "print(\"Degrees of Freedom:\", dof)\n",
    "print(\"Significance Level (alpha):\", alpha)\n",
    "print(\"Critical Value:\", critical_value)"
   ]
  },
  {
   "cell_type": "code",
   "execution_count": 20,
   "id": "a4dc9e89-d5d6-4565-8e42-d9b4c1a5eb4e",
   "metadata": {
    "tags": []
   },
   "outputs": [
    {
     "name": "stdout",
     "output_type": "stream",
     "text": [
      "Fail to reject the null hypothesis (H0). There is no significant association between the type of smart home device and customer satisfaction.\n"
     ]
    }
   ],
   "source": [
    "if chi2_stat > critical_value:\n",
    "    print(\"Reject the null hypothesis (H0). There is a significant association between the type of smart home device and customer satisfaction.\")\n",
    "else:\n",
    "    print(\"Fail to reject the null hypothesis (H0). There is no significant association between the type of smart home device and customer satisfaction.\")"
   ]
  }
 ],
 "metadata": {
  "kernelspec": {
   "display_name": "Python 3 (ipykernel)",
   "language": "python",
   "name": "python3"
  },
  "language_info": {
   "codemirror_mode": {
    "name": "ipython",
    "version": 3
   },
   "file_extension": ".py",
   "mimetype": "text/x-python",
   "name": "python",
   "nbconvert_exporter": "python",
   "pygments_lexer": "ipython3",
   "version": "3.11.5"
  }
 },
 "nbformat": 4,
 "nbformat_minor": 5
}
