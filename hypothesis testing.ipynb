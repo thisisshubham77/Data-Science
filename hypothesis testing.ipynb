{
 "cells": [
  {
   "cell_type": "code",
   "execution_count": 1,
   "id": "5509825e-ea92-447c-8e70-87330571f290",
   "metadata": {
    "tags": []
   },
   "outputs": [],
   "source": [
    "import numpy as np"
   ]
  },
  {
   "cell_type": "code",
   "execution_count": 2,
   "id": "a123534a-c168-4f19-a356-3a199362bdd4",
   "metadata": {
    "tags": []
   },
   "outputs": [],
   "source": [
    "sample_mean = 3050\n",
    "theoretical_mean = 1000 + 5 * 600\n",
    "std_dev = 5 * 25\n",
    "sample_size = 25"
   ]
  },
  {
   "cell_type": "code",
   "execution_count": 3,
   "id": "3fa4609c-dabf-4a2b-8eab-33f9f5c0a383",
   "metadata": {
    "tags": []
   },
   "outputs": [],
   "source": [
    "t_statistic = (sample_mean - theoretical_mean) / (std_dev / np.sqrt(sample_size))"
   ]
  },
  {
   "cell_type": "code",
   "execution_count": 4,
   "id": "4c40cadf-c35f-4153-8b97-eb14f53e2619",
   "metadata": {
    "tags": []
   },
   "outputs": [],
   "source": [
    "H0 = \"The sample mean weekly cost is equal to the theoretical mean weekly cost.\"\n",
    "H1 = \"The sample mean weekly cost is not equal to the theoretical mean weekly cost.\""
   ]
  },
  {
   "cell_type": "code",
   "execution_count": 5,
   "id": "52793b4e-9169-4009-aa0d-5e837b69bdae",
   "metadata": {
    "tags": []
   },
   "outputs": [
    {
     "name": "stdout",
     "output_type": "stream",
     "text": [
      "Null Hypothesis (H0): The sample mean weekly cost is equal to the theoretical mean weekly cost.\n",
      "Alternative Hypothesis (H1): The sample mean weekly cost is not equal to the theoretical mean weekly cost.\n",
      "Sample Mean: 3050\n",
      "Theoretical Mean: 4000\n",
      "Standard Deviation: 125\n",
      "Sample Size: 25\n",
      "Test Statistic (t): -38.0\n"
     ]
    }
   ],
   "source": [
    "print(\"Null Hypothesis (H0):\", H0)\n",
    "print(\"Alternative Hypothesis (H1):\", H1)\n",
    "print(\"Sample Mean:\", sample_mean)\n",
    "print(\"Theoretical Mean:\", theoretical_mean)\n",
    "print(\"Standard Deviation:\", std_dev)\n",
    "print(\"Sample Size:\", sample_size)\n",
    "print(\"Test Statistic (t):\", t_statistic)"
   ]
  },
  {
   "cell_type": "code",
   "execution_count": 6,
   "id": "8a96676e-5951-4bc1-a692-54aa84f37abf",
   "metadata": {
    "tags": []
   },
   "outputs": [],
   "source": [
    "from scipy.stats import norm"
   ]
  },
  {
   "cell_type": "code",
   "execution_count": 7,
   "id": "c9938af9-e39d-4897-a284-334fb1e3c19c",
   "metadata": {
    "tags": []
   },
   "outputs": [],
   "source": [
    "alpha = 0.05"
   ]
  },
  {
   "cell_type": "code",
   "execution_count": 8,
   "id": "888b0722-fa2e-4574-a5d5-0733754c4c65",
   "metadata": {
    "tags": []
   },
   "outputs": [],
   "source": [
    "critical_value = norm.ppf(1 - alpha/2)"
   ]
  },
  {
   "cell_type": "code",
   "execution_count": 9,
   "id": "92fdb839-ee2a-4619-a5ce-7c1d1b2d6c1b",
   "metadata": {
    "tags": []
   },
   "outputs": [
    {
     "name": "stdout",
     "output_type": "stream",
     "text": [
      "Critical Value from Standard Normal (Z) Distribution: 1.959963984540054\n"
     ]
    }
   ],
   "source": [
    "print(\"Critical Value from Standard Normal (Z) Distribution:\", critical_value)"
   ]
  },
  {
   "cell_type": "code",
   "execution_count": 10,
   "id": "fc3a5d5c-4844-4364-bbf1-03939f8ae41c",
   "metadata": {
    "tags": []
   },
   "outputs": [],
   "source": [
    "if abs(t_statistic) > critical_value:\n",
    "    decision = \"Reject the null hypothesis\"\n",
    "else:\n",
    "    decision = \"Fail to reject the null hypothesis\""
   ]
  },
  {
   "cell_type": "code",
   "execution_count": 11,
   "id": "7e6505c5-a919-4674-9794-704f6dc817c1",
   "metadata": {
    "tags": []
   },
   "outputs": [
    {
     "name": "stdout",
     "output_type": "stream",
     "text": [
      "Test Statistic (t): -38.0\n",
      "Critical Value from Standard Normal (Z) Distribution: 1.959963984540054\n",
      "Decision based on Critical Value and Test Statistic: Reject the null hypothesis\n"
     ]
    }
   ],
   "source": [
    "print(\"Test Statistic (t):\", t_statistic)\n",
    "print(\"Critical Value from Standard Normal (Z) Distribution:\", critical_value)\n",
    "print(\"Decision based on Critical Value and Test Statistic:\", decision)"
   ]
  }
 ],
 "metadata": {
  "kernelspec": {
   "display_name": "Python 3 (ipykernel)",
   "language": "python",
   "name": "python3"
  },
  "language_info": {
   "codemirror_mode": {
    "name": "ipython",
    "version": 3
   },
   "file_extension": ".py",
   "mimetype": "text/x-python",
   "name": "python",
   "nbconvert_exporter": "python",
   "pygments_lexer": "ipython3",
   "version": "3.11.5"
  }
 },
 "nbformat": 4,
 "nbformat_minor": 5
}
