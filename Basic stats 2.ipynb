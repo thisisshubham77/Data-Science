{
 "cells": [
  {
   "cell_type": "code",
   "execution_count": 1,
   "id": "d07327a7-d225-4be9-a1a0-aac8777e0e09",
   "metadata": {
    "tags": []
   },
   "outputs": [],
   "source": [
    "import numpy as np\n",
    "from scipy import stats"
   ]
  },
  {
   "cell_type": "code",
   "execution_count": 2,
   "id": "05c1e824-e81f-4a85-a092-be59ceadbf7a",
   "metadata": {
    "tags": []
   },
   "outputs": [],
   "source": [
    "data = [1.13, 1.55, 1.43, 0.92, 1.25, 1.36, 1.32, 0.85, 1.07, 1.48, 1.20, 1.33, 1.18, 1.22, 1.29]"
   ]
  },
  {
   "cell_type": "markdown",
   "id": "6e81e378-8ea3-4bf0-9197-1d64ebfa019a",
   "metadata": {},
   "source": [
    "a. Build 99% Confidence Interval Using Sample Standard Deviation"
   ]
  },
  {
   "cell_type": "code",
   "execution_count": 3,
   "id": "aef3925a-ff84-4a50-82c5-a240568a79f3",
   "metadata": {
    "tags": []
   },
   "outputs": [],
   "source": [
    "sample_mean = np.mean(data)\n",
    "sample_std = np.std(data, ddof=1)"
   ]
  },
  {
   "cell_type": "code",
   "execution_count": 4,
   "id": "9957eb6e-a84c-4719-b071-bdf28ecd4add",
   "metadata": {
    "tags": []
   },
   "outputs": [],
   "source": [
    "n = len(data)"
   ]
  },
  {
   "cell_type": "code",
   "execution_count": 5,
   "id": "d9784baf-7a10-43c3-a993-701a3c39ec48",
   "metadata": {
    "tags": []
   },
   "outputs": [],
   "source": [
    "df = n - 1"
   ]
  },
  {
   "cell_type": "code",
   "execution_count": 6,
   "id": "1e52459f-e954-4c29-9d9c-d22126bac845",
   "metadata": {
    "tags": []
   },
   "outputs": [],
   "source": [
    "confidence_level = 0.99"
   ]
  },
  {
   "cell_type": "code",
   "execution_count": 7,
   "id": "879c8178-525b-4d02-a924-7974756b237f",
   "metadata": {
    "tags": []
   },
   "outputs": [],
   "source": [
    "t_critical = stats.t.ppf((1 + confidence_level) / 2, df)"
   ]
  },
  {
   "cell_type": "code",
   "execution_count": 8,
   "id": "28e691fe-c730-4a1d-a0b7-1599ad3a51be",
   "metadata": {
    "tags": []
   },
   "outputs": [
    {
     "data": {
      "text/plain": [
       "2.97684273411266"
      ]
     },
     "execution_count": 8,
     "metadata": {},
     "output_type": "execute_result"
    }
   ],
   "source": [
    "t_critical"
   ]
  },
  {
   "cell_type": "code",
   "execution_count": 9,
   "id": "f60150f5-b0da-44cd-a267-6fb616a30e4d",
   "metadata": {
    "tags": []
   },
   "outputs": [],
   "source": [
    "margin_of_error = t_critical * (sample_std / np.sqrt(n))"
   ]
  },
  {
   "cell_type": "code",
   "execution_count": 10,
   "id": "53262b12-5f51-4ee5-975b-e28aa8fe7b4f",
   "metadata": {
    "tags": []
   },
   "outputs": [
    {
     "data": {
      "text/plain": [
       "0.1484693282152996"
      ]
     },
     "execution_count": 10,
     "metadata": {},
     "output_type": "execute_result"
    }
   ],
   "source": [
    "margin_of_error"
   ]
  },
  {
   "cell_type": "code",
   "execution_count": 11,
   "id": "e330303f-3a43-48b5-869f-52ceac45d760",
   "metadata": {
    "tags": []
   },
   "outputs": [],
   "source": [
    "confidence_interval = (sample_mean - margin_of_error, sample_mean + margin_of_error)"
   ]
  },
  {
   "cell_type": "code",
   "execution_count": 12,
   "id": "9378ebc7-b616-44d0-b058-ca449c98bc68",
   "metadata": {
    "tags": []
   },
   "outputs": [
    {
     "data": {
      "text/plain": [
       "(1.090197338451367, 1.3871359948819662)"
      ]
     },
     "execution_count": 12,
     "metadata": {},
     "output_type": "execute_result"
    }
   ],
   "source": [
    "confidence_interval"
   ]
  },
  {
   "cell_type": "markdown",
   "id": "ea0f5425-b654-4107-9517-d645d1df4208",
   "metadata": {},
   "source": [
    "b. Build 99% Confidence Interval Using Known Population Standard Deviation"
   ]
  },
  {
   "cell_type": "code",
   "execution_count": 13,
   "id": "5b9810f3-7ed1-408e-9d65-587b489c799b",
   "metadata": {
    "tags": []
   },
   "outputs": [
    {
     "data": {
      "text/plain": [
       "[1.13,\n",
       " 1.55,\n",
       " 1.43,\n",
       " 0.92,\n",
       " 1.25,\n",
       " 1.36,\n",
       " 1.32,\n",
       " 0.85,\n",
       " 1.07,\n",
       " 1.48,\n",
       " 1.2,\n",
       " 1.33,\n",
       " 1.18,\n",
       " 1.22,\n",
       " 1.29]"
      ]
     },
     "execution_count": 13,
     "metadata": {},
     "output_type": "execute_result"
    }
   ],
   "source": [
    "data"
   ]
  },
  {
   "cell_type": "code",
   "execution_count": 14,
   "id": "ef49764d-a8a8-4fdc-beee-d54b8c8cd4b4",
   "metadata": {
    "tags": []
   },
   "outputs": [],
   "source": [
    "population_std = 0.15"
   ]
  },
  {
   "cell_type": "code",
   "execution_count": 15,
   "id": "205054b0-3ec3-4e70-b3e3-f8354a15f862",
   "metadata": {
    "tags": []
   },
   "outputs": [],
   "source": [
    "sample_mean = np.mean(data)"
   ]
  },
  {
   "cell_type": "code",
   "execution_count": 16,
   "id": "ba9bdd91-395f-4b4e-906c-a1464a60232c",
   "metadata": {
    "tags": []
   },
   "outputs": [],
   "source": [
    "n = len(data)"
   ]
  },
  {
   "cell_type": "code",
   "execution_count": 17,
   "id": "2cce82af-a76b-4af3-82ed-6a4546526301",
   "metadata": {
    "tags": []
   },
   "outputs": [],
   "source": [
    "confidence_level = 0.99"
   ]
  },
  {
   "cell_type": "code",
   "execution_count": 19,
   "id": "ee471548-5742-420f-bd78-0f5c62c45be5",
   "metadata": {
    "tags": []
   },
   "outputs": [],
   "source": [
    "from scipy.stats import norm\n"
   ]
  },
  {
   "cell_type": "code",
   "execution_count": 20,
   "id": "462f4a7b-152f-440b-936d-f3bbabd3fb9b",
   "metadata": {
    "tags": []
   },
   "outputs": [],
   "source": [
    "z_critical = norm.ppf((1 + confidence_level) / 2)"
   ]
  },
  {
   "cell_type": "code",
   "execution_count": 21,
   "id": "266a0c3c-27b1-407e-93ed-952e8d27e91a",
   "metadata": {
    "tags": []
   },
   "outputs": [
    {
     "data": {
      "text/plain": [
       "2.5758293035489004"
      ]
     },
     "execution_count": 21,
     "metadata": {},
     "output_type": "execute_result"
    }
   ],
   "source": [
    "z_critical"
   ]
  },
  {
   "cell_type": "code",
   "execution_count": 22,
   "id": "ef2cb5a3-db11-4110-b9de-f2fdd2606524",
   "metadata": {
    "tags": []
   },
   "outputs": [],
   "source": [
    "margin_of_error = z_critical * (population_std / np.sqrt(n))"
   ]
  },
  {
   "cell_type": "code",
   "execution_count": 23,
   "id": "ef2d4f99-8a8d-4a04-96e6-cf86f34597c9",
   "metadata": {
    "tags": []
   },
   "outputs": [
    {
     "data": {
      "text/plain": [
       "0.0997614399531794"
      ]
     },
     "execution_count": 23,
     "metadata": {},
     "output_type": "execute_result"
    }
   ],
   "source": [
    "margin_of_error"
   ]
  },
  {
   "cell_type": "code",
   "execution_count": 24,
   "id": "e2babd5c-99a7-45f2-8e7b-58d7d6756ec4",
   "metadata": {
    "tags": []
   },
   "outputs": [],
   "source": [
    "confidence_interval = (sample_mean - margin_of_error, sample_mean + margin_of_error)"
   ]
  },
  {
   "cell_type": "code",
   "execution_count": 25,
   "id": "7f45e8b2-008f-4e6e-916b-9bffb34ef166",
   "metadata": {
    "tags": []
   },
   "outputs": [
    {
     "data": {
      "text/plain": [
       "(1.1389052267134872, 1.338428106619846)"
      ]
     },
     "execution_count": 25,
     "metadata": {},
     "output_type": "execute_result"
    }
   ],
   "source": [
    "confidence_interval"
   ]
  },
  {
   "cell_type": "code",
   "execution_count": null,
   "id": "953083f0-388a-413e-8d70-cc13b72ff766",
   "metadata": {},
   "outputs": [],
   "source": []
  }
 ],
 "metadata": {
  "kernelspec": {
   "display_name": "Python 3 (ipykernel)",
   "language": "python",
   "name": "python3"
  },
  "language_info": {
   "codemirror_mode": {
    "name": "ipython",
    "version": 3
   },
   "file_extension": ".py",
   "mimetype": "text/x-python",
   "name": "python",
   "nbconvert_exporter": "python",
   "pygments_lexer": "ipython3",
   "version": "3.11.5"
  }
 },
 "nbformat": 4,
 "nbformat_minor": 5
}
