{
 "cells": [
  {
   "cell_type": "code",
   "execution_count": 1,
   "id": "900252f0-f513-4cd6-aeb5-d5c12b23ed77",
   "metadata": {
    "tags": []
   },
   "outputs": [
    {
     "name": "stdout",
     "output_type": "stream",
     "text": [
      "11 is a prime number\n"
     ]
    }
   ],
   "source": [
    "num = 11\n",
    "if num > 1:\n",
    "    for i in range(2, (num//2)+1):\n",
    "        if (num % i) == 0:\n",
    "            print(num, \"is not a prime number\")\n",
    "    else:\n",
    "        print(num, \"is a prime number\")\n",
    "else:\n",
    "    print(num, \"is not a prime number\")"
   ]
  },
  {
   "cell_type": "code",
   "execution_count": 3,
   "id": "3d4ed712-fbb8-4273-b2d9-a11a11b1f199",
   "metadata": {
    "tags": []
   },
   "outputs": [
    {
     "name": "stdin",
     "output_type": "stream",
     "text": [
      "Enter first number: 6\n",
      "Enter second number: 54\n"
     ]
    },
    {
     "name": "stdout",
     "output_type": "stream",
     "text": [
      "Product is: 324\n"
     ]
    }
   ],
   "source": [
    "num1= int(input('Enter first number:'))\n",
    "num2=int(input('Enter second number:'))\n",
    "product= num1* num2\n",
    "print('Product is:', product)"
   ]
  },
  {
   "cell_type": "code",
   "execution_count": 21,
   "id": "e39e113e-71b7-4971-b1cd-13836f705871",
   "metadata": {
    "tags": []
   },
   "outputs": [
    {
     "name": "stdout",
     "output_type": "stream",
     "text": [
      "4\n",
      "16\n",
      "36\n",
      "64\n",
      "100\n",
      "144\n",
      "196\n",
      "256\n",
      "324\n",
      "400\n",
      "484\n",
      "576\n",
      "676\n",
      "784\n",
      "900\n",
      "1024\n",
      "1156\n",
      "1296\n",
      "1444\n",
      "1600\n",
      "1764\n",
      "1936\n",
      "2116\n",
      "2304\n",
      "2500\n",
      "2704\n",
      "2916\n",
      "3136\n",
      "3364\n",
      "3600\n",
      "3844\n",
      "4096\n",
      "4356\n",
      "4624\n",
      "4900\n",
      "5184\n",
      "5476\n",
      "5776\n",
      "6084\n",
      "6400\n",
      "6724\n",
      "7056\n",
      "7396\n",
      "7744\n",
      "8100\n",
      "8464\n",
      "8836\n",
      "9216\n",
      "9604\n",
      "10000\n"
     ]
    }
   ],
   "source": [
    "start, end = 1, 100\n",
    "for num in range(start, end + 1):\n",
    "      \n",
    "    # checking condition\n",
    "    if num % 2 == 0:\n",
    "        num1=num\n",
    "        print(num1*num1)"
   ]
  },
  {
   "cell_type": "code",
   "execution_count": 17,
   "id": "5fb163a2-e70e-4ee5-b380-3e43bd7db26c",
   "metadata": {
    "tags": []
   },
   "outputs": [
    {
     "name": "stdout",
     "output_type": "stream",
     "text": [
      "The original string is :  This is a sample text. This text will be used to demonstrate the word counter.\n",
      "The number of words in string are : 15\n",
      "The number of words in string are :  78\n"
     ]
    }
   ],
   "source": [
    "strn1 = \"This is a sample text. This text will be used to demonstrate the word counter.\"\n",
    "\n",
    "print(\"The original string is : \", strn1)\n",
    "res = len(strn1.split())\n",
    "print(\"The number of words in string are : \" + str(res))\n",
    "print(\"The number of words in string are : \", len(strn1))"
   ]
  },
  {
   "cell_type": "code",
   "execution_count": 20,
   "id": "27d61dba-828f-4ecb-8446-4b1e423c8858",
   "metadata": {
    "tags": []
   },
   "outputs": [
    {
     "name": "stdin",
     "output_type": "stream",
     "text": [
      "Enter a letter: racecar\n"
     ]
    },
    {
     "name": "stdout",
     "output_type": "stream",
     "text": [
      "The letter is a palindrome\n"
     ]
    }
   ],
   "source": [
    "string=input((\"Enter a letter:\"))\n",
    "if(string==string[::-1]):\n",
    "    print(\"The letter is a palindrome\")\n",
    "else:\n",
    "    print(\"The letter is not a palindrome\")\n"
   ]
  }
 ],
 "metadata": {
  "kernelspec": {
   "display_name": "Python 3 (ipykernel)",
   "language": "python",
   "name": "python3"
  },
  "language_info": {
   "codemirror_mode": {
    "name": "ipython",
    "version": 3
   },
   "file_extension": ".py",
   "mimetype": "text/x-python",
   "name": "python",
   "nbconvert_exporter": "python",
   "pygments_lexer": "ipython3",
   "version": "3.11.5"
  }
 },
 "nbformat": 4,
 "nbformat_minor": 5
}
